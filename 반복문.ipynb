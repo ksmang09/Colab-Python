{
  "nbformat": 4,
  "nbformat_minor": 0,
  "metadata": {
    "colab": {
      "name": "반복문.ipynb",
      "provenance": [],
      "authorship_tag": "ABX9TyMg7n9H8JHxLaiI1baB8BM0",
      "include_colab_link": true
    },
    "kernelspec": {
      "name": "python3",
      "display_name": "Python 3"
    },
    "language_info": {
      "name": "python"
    }
  },
  "cells": [
    {
      "cell_type": "markdown",
      "metadata": {
        "id": "view-in-github",
        "colab_type": "text"
      },
      "source": [
        "<a href=\"https://colab.research.google.com/github/ksmang09/pythonOnline/blob/main/%EB%B0%98%EB%B3%B5%EB%AC%B8.ipynb\" target=\"_parent\"><img src=\"https://colab.research.google.com/assets/colab-badge.svg\" alt=\"Open In Colab\"/></a>"
      ]
    },
    {
      "cell_type": "markdown",
      "metadata": {
        "id": "ZuDxDqiG7FTl"
      },
      "source": [
        "### **학습목표**\n",
        "\n",
        "\n",
        "*   반복문의 이해 및 활용(for)\n",
        "*   range 함수 이해\n",
        "\n"
      ]
    },
    {
      "cell_type": "markdown",
      "metadata": {
        "id": "J53Bizx_6cS8"
      },
      "source": [
        "###  **for 반복문**\n",
        "- 리스트, 문자열 등등 순회를 하면서 값을 처리할 때 사용\n",
        "- i는 매번 수행될 때마다 a 리스트 안의 값으로 순차적으로 변경된다.\n",
        "- 모든 a 안의 값이 수해되면 for문의 블록이 종료된다."
      ]
    },
    {
      "cell_type": "code",
      "metadata": {
        "colab": {
          "base_uri": "https://localhost:8080/"
        },
        "id": "a4vIiJ-47Sgh",
        "outputId": "d9073165-0695-4091-9997-8549ca39b8eb"
      },
      "source": [
        "a = [1,2,3,4,5] #리스트\n",
        "\n",
        "for i in a :\n",
        "  print(i, i*2)\n",
        "\n",
        "print(\"최종 i값: \" , i)"
      ],
      "execution_count": 1,
      "outputs": [
        {
          "output_type": "stream",
          "name": "stdout",
          "text": [
            "1 2\n",
            "2 4\n",
            "3 6\n",
            "4 8\n",
            "5 10\n",
            "최종 i값:  5\n"
          ]
        }
      ]
    },
    {
      "cell_type": "code",
      "metadata": {
        "colab": {
          "base_uri": "https://localhost:8080/"
        },
        "id": "woWhd8cr7wqX",
        "outputId": "42b9699e-3109-4faf-87d1-a1a040637ef0"
      },
      "source": [
        "#문자열의 아이템을 출력하기\n",
        "\n",
        "for x in 'Hello comNet A!' :\n",
        "  print(x)"
      ],
      "execution_count": 4,
      "outputs": [
        {
          "output_type": "stream",
          "name": "stdout",
          "text": [
            "H\n",
            "e\n",
            "l\n",
            "l\n",
            "o\n",
            " \n",
            "c\n",
            "o\n",
            "m\n",
            "N\n",
            "e\n",
            "t\n",
            " \n",
            "A\n",
            "!\n"
          ]
        }
      ]
    },
    {
      "cell_type": "code",
      "metadata": {
        "colab": {
          "base_uri": "https://localhost:8080/"
        },
        "id": "bBh0Ygna86uc",
        "outputId": "28f37a11-4e58-4a0d-c417-c1c8a1977617"
      },
      "source": [
        "# a 리스트 안의 수가 짝수일 경우 2로 나누고,\n",
        "# 홀수일 경우 2를 곱한 수를 출력하시오.\n",
        "\n",
        "a = [1,10,7,29,18] #짝수와 홀수\n",
        "\n",
        "for i in a :\n",
        "  if i % 2 --0 : #짝수\n",
        "    print(i//2 ) #2로 나눈다. (정수만 출력)\n",
        "  else : #홀수\n",
        "    print(i*2) #2를 곱한다."
      ],
      "execution_count": 5,
      "outputs": [
        {
          "output_type": "stream",
          "name": "stdout",
          "text": [
            "0\n",
            "20\n",
            "3\n",
            "14\n",
            "36\n"
          ]
        }
      ]
    },
    {
      "cell_type": "code",
      "metadata": {
        "id": "vnyhY4ceGwgI"
      },
      "source": [
        "# 첫 줄에 테스트 케이스가 주어지고,\n",
        "# 두번째 줄부터 나오는 수를 입력받아\n",
        "# 테스트 케이스만큼 각 수를 더하는 문제\n",
        "\n",
        "t = int(input())\n",
        "\n",
        "for i in range(t) :\n",
        "  a, b = input().split()\n",
        "  a = int (a)\n",
        "  b = int (b)\n",
        "  print(a+b)"
      ],
      "execution_count": null,
      "outputs": []
    },
    {
      "cell_type": "markdown",
      "metadata": {
        "id": "7YKB0sq9I4GM"
      },
      "source": [
        "### **break**\n",
        "- 특정 조건을 만족할 때, 블록을 빠져나오기 위해서 사용"
      ]
    },
    {
      "cell_type": "code",
      "metadata": {
        "colab": {
          "base_uri": "https://localhost:8080/"
        },
        "id": "Wxk0QigrI_V8",
        "outputId": "a5445bf3-a438-4f4b-ff92-1fa328ab979b"
      },
      "source": [
        "a = [1,10,7,29,18]\n",
        "\n",
        "for i in a:\n",
        "  print(i)\n",
        "  if i > 20 :\n",
        "    break"
      ],
      "execution_count": 7,
      "outputs": [
        {
          "output_type": "stream",
          "name": "stdout",
          "text": [
            "1\n",
            "10\n",
            "7\n",
            "29\n"
          ]
        }
      ]
    },
    {
      "cell_type": "markdown",
      "metadata": {
        "id": "ngu3tgxKJ-CV"
      },
      "source": [
        "### **continue**\n",
        "- 해당 아이템을 건너 뛰고 싶을 때 사용"
      ]
    },
    {
      "cell_type": "code",
      "metadata": {
        "colab": {
          "base_uri": "https://localhost:8080/"
        },
        "id": "NBy00azSJ9zD",
        "outputId": "66917486-fc7b-454f-9750-54cc1fd5a9c5"
      },
      "source": [
        "a = [3,9,7,29,18]\n",
        "\n",
        "for i in a :\n",
        "  if i>5 and i<20:\n",
        "    continue\n",
        "  print(i)"
      ],
      "execution_count": 9,
      "outputs": [
        {
          "output_type": "stream",
          "name": "stdout",
          "text": [
            "3\n",
            "29\n"
          ]
        }
      ]
    },
    {
      "cell_type": "code",
      "metadata": {
        "colab": {
          "base_uri": "https://localhost:8080/"
        },
        "id": "zbu8809LK7hX",
        "outputId": "c0c5eab5-f3f7-48b0-a6d9-5444ce90e0dd"
      },
      "source": [
        "# a 리스트가 주어졌을 때,\n",
        "# 짝수를 만나면 2를 곱한 수를 출력하고,\n",
        "# 홀수를 만나면 넘어가며,\n",
        "# 마지막으로 0을 만났을 때 종료되는 프로그램을 작성하시오.\n",
        "\n",
        "a = [ 3, 2, 5, 10, 23, 12, 3, 4, 0, 2, 4]\n",
        "\n",
        "for i in a :\n",
        "  if i == 0 :\n",
        "    break\n",
        "  elif i%2==0 :\n",
        "    print(i*2)\n",
        "  else :\n",
        "   continue"
      ],
      "execution_count": 24,
      "outputs": [
        {
          "output_type": "stream",
          "name": "stdout",
          "text": [
            "4\n",
            "20\n",
            "24\n",
            "8\n"
          ]
        }
      ]
    },
    {
      "cell_type": "markdown",
      "metadata": {
        "id": "1znKeQ-PUVsC"
      },
      "source": [
        "### **range 함수**\n",
        "- 리스트 혹은 튜플을 쉽게 만들 수 있는 내장함수\n",
        "- 주어진 값에 따라 다양한 결과를 반환\n",
        "\n",
        " \n",
        "```python\n",
        "range(10)         ->[0,1,2,3,4,5,6,7,8,9]\n",
        "range(2, 10)      ->[2,3,4,5,6,7,8,9]\n",
        "range(2, 10, 3)   ->[2,5,8]\n",
        "```"
      ]
    },
    {
      "cell_type": "code",
      "metadata": {
        "colab": {
          "base_uri": "https://localhost:8080/"
        },
        "id": "OZkUmF7MVS_7",
        "outputId": "b38155b1-14bb-4f20-a302-59ab9c09da62"
      },
      "source": [
        "list(range(10))\n",
        "list(range(2,10))"
      ],
      "execution_count": 29,
      "outputs": [
        {
          "output_type": "execute_result",
          "data": {
            "text/plain": [
              "[2, 3, 4, 5, 6, 7, 8, 9]"
            ]
          },
          "metadata": {},
          "execution_count": 29
        }
      ]
    },
    {
      "cell_type": "markdown",
      "metadata": {
        "id": "C1CF72UzYw9w"
      },
      "source": [
        "### **구구단 출력하기**\n",
        "- 2단부터 9단까지\n",
        "- 각 단은 1부터 9까지 곱하도록\n",
        "\n",
        "> - 2 * 1 = 2\n",
        "> - 2 * 2 = 4\n",
        "> - ....\n",
        "> - 2 * 9 = 18\n",
        "> - 총 9단까지 출력\n",
        "\n",
        "\n",
        "\n",
        "\n",
        "\n",
        "\n",
        "\n"
      ]
    },
    {
      "cell_type": "code",
      "metadata": {
        "colab": {
          "base_uri": "https://localhost:8080/"
        },
        "id": "wg0xdtfRZSAL",
        "outputId": "1c42bbb2-f474-4d31-f7a4-55820bf9f81d"
      },
      "source": [
        "print(\"구구단\")\n",
        "for a in range(2,10) :\n",
        "  print(\"[\",a,\"단]\")\n",
        "  for i in range(1, 10):\n",
        "   print(a,\"*\", i, \"=\", a*i )\n",
        "  print()"
      ],
      "execution_count": 44,
      "outputs": [
        {
          "output_type": "stream",
          "name": "stdout",
          "text": [
            "구구단\n",
            "[ 2 단]\n",
            "2 * 1 = 2\n",
            "2 * 2 = 4\n",
            "2 * 3 = 6\n",
            "2 * 4 = 8\n",
            "2 * 5 = 10\n",
            "2 * 6 = 12\n",
            "2 * 7 = 14\n",
            "2 * 8 = 16\n",
            "2 * 9 = 18\n",
            "\n",
            "[ 3 단]\n",
            "3 * 1 = 3\n",
            "3 * 2 = 6\n",
            "3 * 3 = 9\n",
            "3 * 4 = 12\n",
            "3 * 5 = 15\n",
            "3 * 6 = 18\n",
            "3 * 7 = 21\n",
            "3 * 8 = 24\n",
            "3 * 9 = 27\n",
            "\n",
            "[ 4 단]\n",
            "4 * 1 = 4\n",
            "4 * 2 = 8\n",
            "4 * 3 = 12\n",
            "4 * 4 = 16\n",
            "4 * 5 = 20\n",
            "4 * 6 = 24\n",
            "4 * 7 = 28\n",
            "4 * 8 = 32\n",
            "4 * 9 = 36\n",
            "\n",
            "[ 5 단]\n",
            "5 * 1 = 5\n",
            "5 * 2 = 10\n",
            "5 * 3 = 15\n",
            "5 * 4 = 20\n",
            "5 * 5 = 25\n",
            "5 * 6 = 30\n",
            "5 * 7 = 35\n",
            "5 * 8 = 40\n",
            "5 * 9 = 45\n",
            "\n",
            "[ 6 단]\n",
            "6 * 1 = 6\n",
            "6 * 2 = 12\n",
            "6 * 3 = 18\n",
            "6 * 4 = 24\n",
            "6 * 5 = 30\n",
            "6 * 6 = 36\n",
            "6 * 7 = 42\n",
            "6 * 8 = 48\n",
            "6 * 9 = 54\n",
            "\n",
            "[ 7 단]\n",
            "7 * 1 = 7\n",
            "7 * 2 = 14\n",
            "7 * 3 = 21\n",
            "7 * 4 = 28\n",
            "7 * 5 = 35\n",
            "7 * 6 = 42\n",
            "7 * 7 = 49\n",
            "7 * 8 = 56\n",
            "7 * 9 = 63\n",
            "\n",
            "[ 8 단]\n",
            "8 * 1 = 8\n",
            "8 * 2 = 16\n",
            "8 * 3 = 24\n",
            "8 * 4 = 32\n",
            "8 * 5 = 40\n",
            "8 * 6 = 48\n",
            "8 * 7 = 56\n",
            "8 * 8 = 64\n",
            "8 * 9 = 72\n",
            "\n",
            "[ 9 단]\n",
            "9 * 1 = 9\n",
            "9 * 2 = 18\n",
            "9 * 3 = 27\n",
            "9 * 4 = 36\n",
            "9 * 5 = 45\n",
            "9 * 6 = 54\n",
            "9 * 7 = 63\n",
            "9 * 8 = 72\n",
            "9 * 9 = 81\n",
            "\n"
          ]
        }
      ]
    }
  ]
}